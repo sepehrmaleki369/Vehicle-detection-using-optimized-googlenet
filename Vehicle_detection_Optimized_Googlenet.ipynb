{
  "metadata": {
    "kernelspec": {
      "language": "python",
      "display_name": "Python 3",
      "name": "python3"
    },
    "language_info": {
      "name": "python",
      "version": "3.7.6",
      "mimetype": "text/x-python",
      "codemirror_mode": {
        "name": "ipython",
        "version": 3
      },
      "pygments_lexer": "ipython3",
      "nbconvert_exporter": "python",
      "file_extension": ".py"
    },
    "colab": {
      "provenance": []
    },
    "accelerator": "GPU",
    "gpuClass": "standard"
  },
  "nbformat_minor": 0,
  "nbformat": 4,
  "cells": [
    {
      "cell_type": "code",
      "source": [
        "! pip install -q kaggle\n",
        "from google.colab import files\n",
        "files.upload()\n",
        "! mkdir ~/.kaggle\n",
        "! cp kaggle.json ~/.kaggle/\n",
        "! chmod 600 ~/.kaggle/kaggle.json\n",
        "! kaggle datasets list\n",
        "! kaggle datasets download iamsandeepprasad/vehicle-data-set\n",
        "! unzip vehicle-data-set.zip"
      ],
      "metadata": {
        "id": "T_o3S2Vyxd2y"
      },
      "execution_count": null,
      "outputs": []
    },
    {
      "cell_type": "code",
      "source": [
        "import matplotlib.pyplot as plt  # plotting library\n",
        "import scipy                     # scientific computnig and technical computing\n",
        "import cv2                       # working with, mainly resizing, images\n",
        "import numpy as np               # dealing with arrays\n",
        "import glob                      # return a possibly-empty list of path names that match pathname\n",
        "import os                        # dealing with directories\n",
        "import pandas as pd              # providing data structures and data analysis tools\n",
        "import tensorflow as tf\n",
        "import itertools\n",
        "import random\n",
        "from random import shuffle       # mixing up or currently ordered data that might lead our network astray in training.\n",
        "from tqdm import tqdm            # a nice pretty percentage bar for tasks. Thanks to viewer Daniel Bühler for this suggestion\n",
        "from PIL import Image\n",
        "from scipy import ndimage\n",
        "from pathlib import Path\n",
        "from sklearn.metrics import classification_report, confusion_matrix\n",
        "from sklearn import metrics\n",
        "%matplotlib inline\n",
        "np.random.seed(1)"
      ],
      "metadata": {
        "_uuid": "d629ff2d2480ee46fbb7e2d37f6b5fab8052498a",
        "_cell_guid": "79c7e3d0-c299-4dcb-8224-4455121ee9b0",
        "execution": {
          "iopub.status.busy": "2023-02-19T07:31:51.257427Z",
          "iopub.execute_input": "2023-02-19T07:31:51.257770Z",
          "iopub.status.idle": "2023-02-19T07:31:58.690865Z",
          "shell.execute_reply.started": "2023-02-19T07:31:51.257740Z",
          "shell.execute_reply": "2023-02-19T07:31:58.689593Z"
        },
        "trusted": true,
        "id": "jRD228zBxFIm"
      },
      "execution_count": null,
      "outputs": []
    },
    {
      "cell_type": "code",
      "source": [
        "from keras.preprocessing.image import ImageDataGenerator\n",
        "from keras.models import Sequential\n",
        "from keras.layers import Conv2D, MaxPooling2D, Activation, Dropout, Flatten, Dense\n",
        "from keras.callbacks import ModelCheckpoint, EarlyStopping"
      ],
      "metadata": {
        "execution": {
          "iopub.status.busy": "2023-02-19T07:31:58.692462Z",
          "iopub.execute_input": "2023-02-19T07:31:58.692752Z",
          "iopub.status.idle": "2023-02-19T07:31:58.764173Z",
          "shell.execute_reply.started": "2023-02-19T07:31:58.692722Z",
          "shell.execute_reply": "2023-02-19T07:31:58.762413Z"
        },
        "trusted": true,
        "id": "-hTto-K4xFIt"
      },
      "execution_count": null,
      "outputs": []
    },
    {
      "cell_type": "code",
      "source": [
        "train_dir = 'cardataset/train'\n",
        "test_dir = 'cardataset/test'"
      ],
      "metadata": {
        "execution": {
          "iopub.status.busy": "2023-02-19T07:31:58.765651Z",
          "iopub.execute_input": "2023-02-19T07:31:58.765928Z",
          "iopub.status.idle": "2023-02-19T07:31:58.771222Z",
          "shell.execute_reply.started": "2023-02-19T07:31:58.765898Z",
          "shell.execute_reply": "2023-02-19T07:31:58.769756Z"
        },
        "trusted": true,
        "id": "7-274MnLxFIu"
      },
      "execution_count": null,
      "outputs": []
    },
    {
      "cell_type": "code",
      "source": [
        "os.listdir(train_dir)"
      ],
      "metadata": {
        "execution": {
          "iopub.status.busy": "2023-02-19T07:31:58.772915Z",
          "iopub.execute_input": "2023-02-19T07:31:58.773304Z",
          "iopub.status.idle": "2023-02-19T07:31:58.791466Z",
          "shell.execute_reply.started": "2023-02-19T07:31:58.773263Z",
          "shell.execute_reply": "2023-02-19T07:31:58.790071Z"
        },
        "trusted": true,
        "colab": {
          "base_uri": "https://localhost:8080/"
        },
        "id": "zXjkIUcCxFIw",
        "outputId": "cb4d6549-a16f-4d76-e9f5-cf4e3901e1f9"
      },
      "execution_count": null,
      "outputs": [
        {
          "output_type": "execute_result",
          "data": {
            "text/plain": [
              "['Taxi',\n",
              " 'Caterpillar',\n",
              " 'Tank',\n",
              " 'Snowmobile',\n",
              " 'Bicycle',\n",
              " 'Car',\n",
              " 'Cart',\n",
              " 'Segway',\n",
              " 'Truck',\n",
              " 'Bus',\n",
              " 'Barge',\n",
              " 'Helicopter',\n",
              " 'Motorcycle',\n",
              " 'Van',\n",
              " 'Ambulance',\n",
              " 'Limousine',\n",
              " 'Boat']"
            ]
          },
          "metadata": {},
          "execution_count": 6
        }
      ]
    },
    {
      "cell_type": "code",
      "source": [
        "!sudo pip install h5py\n",
        "\n",
        "LR = 1e-3\n",
        "height=224\n",
        "width=224\n",
        "channels=3\n",
        "seed=1337\n",
        "batch_size = 128\n",
        "num_classes = 7\n",
        "epochs = 10\n",
        "data_augmentation = True\n",
        "num_predictions = 20\n",
        "classes = ['Ambulance', 'Bicycle', 'Bus', 'Car', 'Taxi', 'Truck', 'Van']\n",
        "\n",
        "# Training generator\n",
        "train_datagen = ImageDataGenerator(\n",
        "        rescale=1./255,\n",
        "        rotation_range=40,\n",
        "        width_shift_range=0.2,\n",
        "        height_shift_range=0.2,\n",
        "        shear_range=0.2,\n",
        "        zoom_range=0.2,\n",
        "        horizontal_flip=True,\n",
        "        fill_mode='nearest')\n",
        "\n",
        "train_generator = train_datagen.flow_from_directory(train_dir,\n",
        "                                                    target_size=(height,width),\n",
        "                                                    batch_size=batch_size,\n",
        "                                                    seed=seed,\n",
        "                                                    shuffle=True,\n",
        "                                                    class_mode='categorical', classes = classes)\n",
        "\n",
        "# Test generator\n",
        "test_datagen = ImageDataGenerator(rescale=1./255)\n",
        "validation_generator = test_datagen.flow_from_directory(test_dir,\n",
        "                                                  target_size=(height,width),\n",
        "                                                  batch_size=batch_size,\n",
        "                                                  seed=seed,\n",
        "                                                  shuffle=True,\n",
        "                                                  class_mode='categorical', classes = classes)\n",
        "\n",
        "train_num = train_generator.samples\n",
        "validation_num = validation_generator.samples\n",
        "\n",
        "\n",
        "# create model\n",
        "import os\n",
        "import numpy as np\n",
        "import tensorflow as tf\n",
        "import matplotlib.pyplot as plt\n",
        "from tensorflow.keras import regularizers\n",
        "from tensorflow.keras.models import Sequential, Model\n",
        "from tensorflow.keras.layers import Input, Flatten, Dense, Dropout, BatchNormalization\n",
        "from tensorflow.keras.layers import Conv2D, MaxPooling2D, AveragePooling2D, ZeroPadding2D\n",
        "from tensorflow.keras.layers import Concatenate\n",
        "from tensorflow.keras.preprocessing.image import ImageDataGenerator\n",
        "from tensorflow.keras.optimizers import Adam, SGD\n",
        "# print(os.listdir(\"../input/flowers/flowers\"))\n",
        "\n",
        "from tensorflow.keras.models import Sequential, model_from_json\n",
        "from tensorflow.keras.layers import Dense\n",
        "import numpy\n",
        "import os\n",
        "# define parameters\n",
        "CLASS_NUM = 7\n",
        "BATCH_SIZE = 128\n",
        "EPOCH_STEPS = int(4323/BATCH_SIZE)\n",
        "IMAGE_SHAPE = (224, 224, 3)\n",
        "\n",
        "# load json and create model\n",
        "json_file = open('model(1).json', 'r')\n",
        "loaded_model_json = json_file.read()\n",
        "json_file.close()\n",
        "model = model_from_json(loaded_model_json)\n",
        "# load weights into new model\n",
        "model.load_weights(\"model(1).h5\")\n",
        "print(\"Loaded model from disk\")\n",
        "\n",
        "optimizer = Adam(lr=2 * 1e-3, beta_1=0.9, beta_2=0.999, epsilon=1e-08)\n",
        "# optimizer = SGD(lr=1 * 1e-1, momentum=0.9, nesterov=True)\n",
        "model.compile(loss='categorical_crossentropy', optimizer=optimizer, metrics=['acc'])\n",
        "#model.compile(loss='categorical_crossentropy', optimizer='Adam', metrics=['accuracy'])\n",
        "\n",
        "\n",
        "\n",
        "\n",
        "history = model.fit_generator(train_generator,\n",
        "                              steps_per_epoch= train_num // batch_size,\n",
        "                              epochs=epochs,\n",
        "                              validation_data=train_generator,\n",
        "                              validation_steps= validation_num // batch_size,\n",
        "                              verbose = 1\n",
        "                             )\n",
        "\n",
        "\n",
        "\n",
        "acc = history.history['tf.math.truediv_acc']\n",
        "val_acc = history.history['val_tf.math.truediv_acc']\n",
        "loss = history.history['tf.math.truediv_loss']\n",
        "val_loss = history.history['val_tf.math.truediv_loss']\n",
        "epochs = range(1, len(acc) + 1)\n",
        "\n",
        "plt.title('Training and validation accuracy')\n",
        "plt.plot(epochs, acc, 'red', label='Training acc')\n",
        "plt.plot(epochs, val_acc, 'blue', label='Validation acc')\n",
        "plt.legend()\n",
        "\n",
        "plt.figure()\n",
        "plt.title('Training and validation loss')\n",
        "plt.plot(epochs, loss, 'red', label='Training loss')\n",
        "plt.plot(epochs, val_loss, 'blue', label='Validation loss')\n",
        "\n",
        "plt.legend()\n",
        "\n",
        "plt.show()\n",
        "\n",
        "\n",
        "score = model.evaluate(validation_generator)\n",
        "\n",
        "\n",
        "\n",
        "# serialize model to JSON\n",
        "model_json = model.to_json()\n",
        "with open(\"model(1).json\", \"w\") as json_file:\n",
        "    json_file.write(model_json)\n",
        "# serialize weights to HDF5\n",
        "model.save_weights(\"model(1).h5\")\n",
        "print(\"Saved model to disk\")"
      ],
      "metadata": {
        "execution": {
          "iopub.status.busy": "2023-02-19T07:31:58.795732Z",
          "iopub.execute_input": "2023-02-19T07:31:58.796084Z",
          "iopub.status.idle": "2023-02-19T07:32:08.538239Z",
          "shell.execute_reply.started": "2023-02-19T07:31:58.796051Z",
          "shell.execute_reply": "2023-02-19T07:32:08.537298Z"
        },
        "trusted": true,
        "colab": {
          "base_uri": "https://localhost:8080/",
          "height": 1000
        },
        "id": "iYrrYikYxFIz",
        "outputId": "87718c6d-5891-4228-acf0-8dc5934f7ea7"
      },
      "execution_count": null,
      "outputs": [
        {
          "output_type": "stream",
          "name": "stdout",
          "text": [
            "Looking in indexes: https://pypi.org/simple, https://us-python.pkg.dev/colab-wheels/public/simple/\n",
            "Requirement already satisfied: h5py in /usr/local/lib/python3.8/dist-packages (3.1.0)\n",
            "Requirement already satisfied: numpy>=1.17.5 in /usr/local/lib/python3.8/dist-packages (from h5py) (1.22.4)\n",
            "Found 11472 images belonging to 7 classes.\n",
            "Found 3084 images belonging to 7 classes.\n"
          ]
        },
        {
          "output_type": "stream",
          "name": "stderr",
          "text": [
            "WARNING:absl:`lr` is deprecated, please use `learning_rate` instead, or use the legacy optimizer, e.g.,tf.keras.optimizers.legacy.Adam.\n"
          ]
        },
        {
          "output_type": "stream",
          "name": "stdout",
          "text": [
            "Loaded model from disk\n"
          ]
        },
        {
          "output_type": "stream",
          "name": "stderr",
          "text": [
            "<ipython-input-7-c00e7256fbcd>:87: UserWarning: `Model.fit_generator` is deprecated and will be removed in a future version. Please use `Model.fit`, which supports generators.\n",
            "  history = model.fit_generator(train_generator,\n"
          ]
        },
        {
          "output_type": "stream",
          "name": "stdout",
          "text": [
            "Epoch 1/10\n",
            "89/89 [==============================] - 600s 6s/step - loss: 1.2307 - tf.math.truediv_loss: 0.6022 - aux1_loss: 0.3343 - aux2_loss: 0.2941 - tf.math.truediv_acc: 0.8830 - aux1_acc: 0.8835 - aux2_acc: 0.8984 - val_loss: 1.3161 - val_tf.math.truediv_loss: 0.6264 - val_aux1_loss: 0.3689 - val_aux2_loss: 0.3208 - val_tf.math.truediv_acc: 0.8828 - val_aux1_acc: 0.8711 - val_aux2_acc: 0.8883\n",
            "Epoch 2/10\n",
            "89/89 [==============================] - 498s 6s/step - loss: 1.2096 - tf.math.truediv_loss: 0.5942 - aux1_loss: 0.3228 - aux2_loss: 0.2926 - tf.math.truediv_acc: 0.8871 - aux1_acc: 0.8838 - aux2_acc: 0.8999 - val_loss: 1.2283 - val_tf.math.truediv_loss: 0.5895 - val_aux1_loss: 0.3329 - val_aux2_loss: 0.3058 - val_tf.math.truediv_acc: 0.8965 - val_aux1_acc: 0.8851 - val_aux2_acc: 0.8926\n",
            "Epoch 3/10\n",
            "89/89 [==============================] - 505s 6s/step - loss: 1.2083 - tf.math.truediv_loss: 0.5938 - aux1_loss: 0.3244 - aux2_loss: 0.2901 - tf.math.truediv_acc: 0.8859 - aux1_acc: 0.8874 - aux2_acc: 0.9012 - val_loss: 1.1588 - val_tf.math.truediv_loss: 0.5853 - val_aux1_loss: 0.2989 - val_aux2_loss: 0.2745 - val_tf.math.truediv_acc: 0.8932 - val_aux1_acc: 0.8923 - val_aux2_acc: 0.9049\n",
            "Epoch 4/10\n",
            "89/89 [==============================] - 533s 6s/step - loss: 1.1860 - tf.math.truediv_loss: 0.5868 - aux1_loss: 0.3253 - aux2_loss: 0.2739 - tf.math.truediv_acc: 0.8897 - aux1_acc: 0.8907 - aux2_acc: 0.9061 - val_loss: 1.2263 - val_tf.math.truediv_loss: 0.6110 - val_aux1_loss: 0.3323 - val_aux2_loss: 0.2830 - val_tf.math.truediv_acc: 0.8796 - val_aux1_acc: 0.8883 - val_aux2_acc: 0.9043\n",
            "Epoch 5/10\n",
            "89/89 [==============================] - 531s 6s/step - loss: 1.1250 - tf.math.truediv_loss: 0.5682 - aux1_loss: 0.2975 - aux2_loss: 0.2593 - tf.math.truediv_acc: 0.8977 - aux1_acc: 0.8948 - aux2_acc: 0.9118 - val_loss: 1.3546 - val_tf.math.truediv_loss: 0.6464 - val_aux1_loss: 0.3652 - val_aux2_loss: 0.3430 - val_tf.math.truediv_acc: 0.8770 - val_aux1_acc: 0.8737 - val_aux2_acc: 0.8831\n",
            "Epoch 6/10\n",
            "89/89 [==============================] - 505s 6s/step - loss: 1.1597 - tf.math.truediv_loss: 0.5790 - aux1_loss: 0.3146 - aux2_loss: 0.2661 - tf.math.truediv_acc: 0.8888 - aux1_acc: 0.8906 - aux2_acc: 0.9095 - val_loss: 1.0998 - val_tf.math.truediv_loss: 0.5679 - val_aux1_loss: 0.2747 - val_aux2_loss: 0.2572 - val_tf.math.truediv_acc: 0.8958 - val_aux1_acc: 0.9004 - val_aux2_acc: 0.9108\n",
            "Epoch 7/10\n",
            "89/89 [==============================] - 500s 6s/step - loss: 1.0894 - tf.math.truediv_loss: 0.5580 - aux1_loss: 0.2844 - aux2_loss: 0.2470 - tf.math.truediv_acc: 0.8996 - aux1_acc: 0.9016 - aux2_acc: 0.9155 - val_loss: 0.9969 - val_tf.math.truediv_loss: 0.5422 - val_aux1_loss: 0.2482 - val_aux2_loss: 0.2065 - val_tf.math.truediv_acc: 0.9105 - val_aux1_acc: 0.9102 - val_aux2_acc: 0.9229\n",
            "Epoch 8/10\n",
            "89/89 [==============================] - 498s 6s/step - loss: 1.0973 - tf.math.truediv_loss: 0.5606 - aux1_loss: 0.2844 - aux2_loss: 0.2524 - tf.math.truediv_acc: 0.9013 - aux1_acc: 0.8998 - aux2_acc: 0.9159 - val_loss: 1.0733 - val_tf.math.truediv_loss: 0.5599 - val_aux1_loss: 0.2654 - val_aux2_loss: 0.2480 - val_tf.math.truediv_acc: 0.9030 - val_aux1_acc: 0.9033 - val_aux2_acc: 0.9183\n",
            "Epoch 9/10\n",
            "89/89 [==============================] - 531s 6s/step - loss: 1.0747 - tf.math.truediv_loss: 0.5552 - aux1_loss: 0.2861 - aux2_loss: 0.2335 - tf.math.truediv_acc: 0.9059 - aux1_acc: 0.9021 - aux2_acc: 0.9177 - val_loss: 1.0836 - val_tf.math.truediv_loss: 0.5510 - val_aux1_loss: 0.2886 - val_aux2_loss: 0.2441 - val_tf.math.truediv_acc: 0.9115 - val_aux1_acc: 0.8952 - val_aux2_acc: 0.9128\n",
            "Epoch 10/10\n",
            "89/89 [==============================] - 528s 6s/step - loss: 1.0625 - tf.math.truediv_loss: 0.5501 - aux1_loss: 0.2789 - aux2_loss: 0.2335 - tf.math.truediv_acc: 0.9065 - aux1_acc: 0.9027 - aux2_acc: 0.9198 - val_loss: 1.0669 - val_tf.math.truediv_loss: 0.5554 - val_aux1_loss: 0.2876 - val_aux2_loss: 0.2239 - val_tf.math.truediv_acc: 0.9007 - val_aux1_acc: 0.8981 - val_aux2_acc: 0.9219\n"
          ]
        },
        {
          "output_type": "display_data",
          "data": {
            "text/plain": [
              "<Figure size 432x288 with 1 Axes>"
            ],
            "image/png": "[encoded data removed]"
          },
          "metadata": {
            "needs_background": "light"
          }
        },
        {
          "output_type": "display_data",
          "data": {
            "text/plain": [
              "<Figure size 432x288 with 1 Axes>"
            ],
            "image/png": "[encoded data removed]"
          },
          "metadata": {
            "needs_background": "light"
          }
        },
        {
          "output_type": "stream",
          "name": "stdout",
          "text": [
            "25/25 [==============================] - 80s 3s/step - loss: 3.6326 - tf.math.truediv_loss: 1.3362 - aux1_loss: 1.1107 - aux2_loss: 1.1857 - tf.math.truediv_acc: 0.7085 - aux1_acc: 0.7309 - aux2_acc: 0.7299\n",
            "Saved model to disk\n"
          ]
        }
      ]
    },
    {
      "cell_type": "code",
      "source": [],
      "metadata": {
        "id": "-aKXWjCFkg0v"
      },
      "execution_count": null,
      "outputs": []
    }
  ]
}